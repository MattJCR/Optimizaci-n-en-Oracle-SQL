{
  "nbformat": 4,
  "nbformat_minor": 0,
  "metadata": {
    "colab": {
      "provenance": [],
      "authorship_tag": "ABX9TyPP3n8FnOqcq/kXo7GmNBof",
      "include_colab_link": true
    },
    "kernelspec": {
      "name": "python3",
      "display_name": "Python 3"
    },
    "language_info": {
      "name": "python"
    }
  },
  "cells": [
    {
      "cell_type": "markdown",
      "metadata": {
        "id": "view-in-github",
        "colab_type": "text"
      },
      "source": [
        "<a href=\"https://colab.research.google.com/github/MattJCR/Optimizaci-n-en-Oracle-SQL/blob/master/Optimizaci%C3%B3n_en_Oracle_SQL.ipynb\" target=\"_parent\"><img src=\"https://colab.research.google.com/assets/colab-badge.svg\" alt=\"Open In Colab\"/></a>"
      ]
    },
    {
      "cell_type": "markdown",
      "source": [
        "# **Optimización de consultas SQL**\n",
        "La optimización de las consultas SQL es una técnica muy importante para mejorar el rendimiento de una base de datos Oracle. La idea es escribir las consultas de manera que se ejecuten de manera rápida y eficiente, utilizando técnicas como el uso de índices, la selección adecuada de las tablas y columnas a utilizar, y la minimización del uso de operaciones complejas y costosas.\n",
        "\n",
        "Por ejemplo, consideremos una consulta simple que busca todos los clientes que tengan un apellido determinado:"
      ],
      "metadata": {
        "id": "Wk6e6RVPim6M"
      }
    },
    {
      "cell_type": "code",
      "source": [
        "SELECT * FROM clients\n",
        "WHERE last_name = 'Smith';"
      ],
      "metadata": {
        "id": "yVlG0W26is5G"
      },
      "execution_count": null,
      "outputs": []
    },
    {
      "cell_type": "markdown",
      "source": [
        "Esta consulta podría ser optimizada de varias maneras, por ejemplo:\n",
        "\n",
        "1. Si se tiene un índice sobre el campo \"last_name\", se puede utilizar ese índice para buscar de manera más rápida los clientes con el apellido Smith. La consulta optimizada sería:"
      ],
      "metadata": {
        "id": "aF0FJqMfiulK"
      }
    },
    {
      "cell_type": "code",
      "source": [
        "SELECT * FROM clients\n",
        "WHERE last_name = 'Smith'\n",
        "USING INDEX (last_name_idx);"
      ],
      "metadata": {
        "id": "gvC3FeeLixym"
      },
      "execution_count": null,
      "outputs": []
    },
    {
      "cell_type": "markdown",
      "source": [
        "2. Si solo se necesitan algunos campos de la tabla \"clients\", en lugar de seleccionar todos los campos con \"SELECT *\", se pueden seleccionar solo los campos necesarios. Por ejemplo, si solo se necesita el nombre y el apellido del cliente, se puede escribir la consulta así:"
      ],
      "metadata": {
        "id": "B2DZ-fTRi3px"
      }
    },
    {
      "cell_type": "code",
      "source": [
        "SELECT first_name, last_name FROM clients\n",
        "WHERE last_name = 'Smith';"
      ],
      "metadata": {
        "id": "hRVkk1iRi3P0"
      },
      "execution_count": null,
      "outputs": []
    },
    {
      "cell_type": "markdown",
      "source": [
        "De esta manera se evita cargar todos los datos de la tabla en memoria y se mejora el rendimiento de la consulta."
      ],
      "metadata": {
        "id": "xOfMbSNwi7t7"
      }
    },
    {
      "cell_type": "markdown",
      "source": [
        "3. Si se tiene una tabla de índices invertidos (un índice que guarda los valores en orden inverso al original), se puede utilizar ese índice para buscar de manera más rápida los clientes con un apellido que comience con una determinada letra. Por ejemplo, si se quieren buscar todos los clientes cuyo apellido comience con la letra \"S\", se puede escribir la consulta así:"
      ],
      "metadata": {
        "id": "1M4v4z_ui9oJ"
      }
    },
    {
      "cell_type": "code",
      "source": [
        "SELECT * FROM clients\n",
        "WHERE last_name LIKE 'S%'\n",
        "USING INDEX (last_name_inv_idx);"
      ],
      "metadata": {
        "id": "id9pf6SGjA5S"
      },
      "execution_count": null,
      "outputs": []
    },
    {
      "cell_type": "markdown",
      "source": [
        "En este caso, el índice invertido permite buscar de manera más rápida los clientes con el apellido que comienza con la letra \"S\"."
      ],
      "metadata": {
        "id": "Zx2hAC3WjSC0"
      }
    },
    {
      "cell_type": "markdown",
      "source": [
        "Existen muchas otras técnicas y herramientas que se pueden utilizar para optimizar las consultas SQL en una base de datos Oracle. Algunas de ellas son:\n",
        "\n",
        "* El uso de operadores de unión y subconsultas para combinar y filtrar datos de varias tablas de manera eficiente.\n",
        "\n",
        "* El uso de funciones de agregación y grupo para agrupar y calcular valores sobre un conjunto de datos.\n",
        "\n",
        "* El uso de vistas para simplificar la consulta de datos complejos y evitar la repetición de código.\n",
        "\n",
        "* El uso de herramientas de análisis de consultas como el Plan de Ejecución y el Oracle SQL Tuning Advisor para detectar problemas y sugerencias de optimización.\n",
        "\n",
        "A continuación se muestran algunos ejemplos de cómo se pueden utilizar estas técnicas en consultas SQL:\n",
        "\n",
        "* Por ejemplo, si se quiere buscar todos los clientes que hayan comprado un determinado producto, se puede utilizar una unión de las tablas \"clients\" y \"orders\" para combinar los datos de ambas tablas de manera eficiente:"
      ],
      "metadata": {
        "id": "J4UCpojBjT82"
      }
    },
    {
      "cell_type": "code",
      "source": [
        "SELECT clients.*\n",
        "FROM clients\n",
        "INNER JOIN orders ON clients.id = orders.client_id\n",
        "WHERE orders.product_id = 123;"
      ],
      "metadata": {
        "id": "2lDr95s_jcVR"
      },
      "execution_count": null,
      "outputs": []
    },
    {
      "cell_type": "markdown",
      "source": [
        "* Si se quiere obtener el promedio de edad de los clientes que hayan comprado un determinado producto, se puede utilizar una función de agregación y una subconsulta para calcular el valor de manera eficiente:"
      ],
      "metadata": {
        "id": "8dGf3deYjdPC"
      }
    },
    {
      "cell_type": "code",
      "source": [
        "SELECT AVG(age)\n",
        "FROM clients\n",
        "WHERE id IN (\n",
        "  SELECT client_id\n",
        "  FROM orders\n",
        "  WHERE product_id = 123\n",
        ");"
      ],
      "metadata": {
        "id": "iHLQ_I2ljf8k"
      },
      "execution_count": null,
      "outputs": []
    },
    {
      "cell_type": "markdown",
      "source": [
        "* Si se quiere obtener la suma total de ventas por cada mes del año, se puede utilizar una vista para simplificar la consulta y evitar la repetición de código:"
      ],
      "metadata": {
        "id": "UCCEJ2YPjiAz"
      }
    },
    {
      "cell_type": "code",
      "source": [
        "CREATE VIEW sales_by_month AS\n",
        "SELECT TO_CHAR(date, 'MON') AS month, SUM(amount) AS total\n",
        "FROM orders\n",
        "GROUP BY month;\n",
        "\n",
        "SELECT * FROM sales_by_month;"
      ],
      "metadata": {
        "id": "F3to5QE6jj2j"
      },
      "execution_count": null,
      "outputs": []
    },
    {
      "cell_type": "markdown",
      "source": [
        "En este caso, la vista \"sales_by_month\" simplifica la consulta de datos y permite obtener los valores de manera rápida y eficiente.\n",
        "\n",
        "Para utilizar estas técnicas y herramientas de optimización de consultas SQL en una base de datos Oracle, es importante tener conocimientos avanzados de SQL y de la estructura y funcionamiento de la base de datos. Además, es recomendable realizar pruebas y mediciones de rendimiento para comparar y evaluar diferentes opciones de optimización."
      ],
      "metadata": {
        "id": "LbLkpTmSjouR"
      }
    },
    {
      "cell_type": "markdown",
      "source": [
        "# **Optimizar consultas con JOIN**\n",
        "Hay varias formas de optimizar consultas con JOIN para mejorar su rendimiento. Algunas de ellas son:\n",
        "\n",
        "1. Utilizar índices en las tablas involucradas en el JOIN para mejorar el acceso a los datos y reducir el tiempo de ejecución de la consulta.\n",
        "\n",
        "2. Utilizar JOINs INNER en lugar de OUTER para evitar que se incluyan registros nulos en el resultado final.\n",
        "\n",
        "3. Utilizar JOINs de tipo HASH en lugar de sort-merge para mejorar la eficiencia de la consulta.\n",
        "\n",
        "4. Evitar utilizar funciones en las condiciones de JOIN, ya que pueden dificultar la optimización de la consulta por parte del motor de base de datos.\n",
        "\n",
        "5. Utilizar JOINs de tipo NESTED LOOPS en lugar de CROSS JOINs para evitar el cartesian product y reducir el tamaño del resultado final.\n",
        "\n",
        "6. Utilizar JOINs de tipo NATURAL en lugar de condiciones de JOIN explícitas para simplificar la consulta y mejorar su legibilidad.\n",
        "\n",
        "Ejemplo de una consulta con JOIN optimizada:"
      ],
      "metadata": {
        "id": "FPRsqoXYmDyr"
      }
    },
    {
      "cell_type": "code",
      "source": [
        "SELECT a.ID, a.NAME, b.DESCRIPTION\n",
        "FROM TABLE1 a\n",
        "INNER JOIN TABLE2 b ON a.ID = b.ID\n",
        "WHERE a.NAME = 'John Doe';"
      ],
      "metadata": {
        "id": "vOVCdgJDmKkO"
      },
      "execution_count": null,
      "outputs": []
    },
    {
      "cell_type": "markdown",
      "source": [
        "En este ejemplo, se utilizan un JOIN INNER y un índice en la tabla TABLE1 para mejorar el rendimiento de la consulta. Además, se evita utilizar funciones en la condición de JOIN y se utiliza un JOIN de tipo NATURAL para simplificar la consulta.\n",
        "\n",
        "a continuación se presentan ejemplos de código para cada uno de los puntos mencionados:\n",
        "\n",
        "1. Utilizar índices en las tablas involucradas en el JOIN para mejorar el acceso a los datos y reducir el tiempo de ejecución de la consulta."
      ],
      "metadata": {
        "id": "xfPJBegUmNTg"
      }
    },
    {
      "cell_type": "code",
      "source": [
        "-- Crear índice en la tabla TABLE1\n",
        "CREATE INDEX IDX_TABLE1 ON TABLE1 (ID);\n",
        "\n",
        "-- Ejecutar consulta con JOIN utilizando el índice\n",
        "SELECT a.ID, a.NAME, b.DESCRIPTION\n",
        "FROM TABLE1 a\n",
        "INNER JOIN TABLE2 b ON a.ID = b.ID\n",
        "WHERE a.NAME = 'John Doe';"
      ],
      "metadata": {
        "id": "MrbrhfpvmgUM"
      },
      "execution_count": null,
      "outputs": []
    },
    {
      "cell_type": "markdown",
      "source": [
        "2. Utilizar JOINs INNER en lugar de OUTER para evitar que se incluyan registros nulos en el resultado final."
      ],
      "metadata": {
        "id": "u2j6RTS2mizQ"
      }
    },
    {
      "cell_type": "code",
      "source": [
        "-- Ejecutar consulta con JOIN INNER\n",
        "SELECT a.ID, a.NAME, b.DESCRIPTION\n",
        "FROM TABLE1 a\n",
        "INNER JOIN TABLE2 b ON a.ID = b.ID\n",
        "WHERE a.NAME = 'John Doe';"
      ],
      "metadata": {
        "id": "V94WvGF-mlEB"
      },
      "execution_count": null,
      "outputs": []
    },
    {
      "cell_type": "markdown",
      "source": [
        "3. Utilizar JOINs de tipo HASH en lugar de sort-merge para mejorar la eficiencia de la consulta."
      ],
      "metadata": {
        "id": "7OOsmKKsmmzY"
      }
    },
    {
      "cell_type": "code",
      "source": [
        "-- Ejecutar consulta con JOIN de tipo HASH\n",
        "SELECT a.ID, a.NAME, b.DESCRIPTION\n",
        "FROM TABLE1 a\n",
        "HASH JOIN TABLE2 b ON a.ID = b.ID\n",
        "WHERE a.NAME = 'John Doe';"
      ],
      "metadata": {
        "id": "SOedSvCDmoo9"
      },
      "execution_count": null,
      "outputs": []
    },
    {
      "cell_type": "markdown",
      "source": [
        "4. Evitar utilizar funciones en las condiciones de JOIN, ya que pueden dificultar la optimización de la consulta por parte del motor de base de datos."
      ],
      "metadata": {
        "id": "i0bAkl2DmqT4"
      }
    },
    {
      "cell_type": "code",
      "source": [
        "-- Ejecutar consulta con JOIN sin funciones en la condición\n",
        "SELECT a.ID, a.NAME, b.DESCRIPTION\n",
        "FROM TABLE1 a\n",
        "INNER JOIN TABLE2 b ON a.ID = b.ID\n",
        "WHERE a.NAME = 'John Doe';"
      ],
      "metadata": {
        "id": "Wr_GNFLbms5M"
      },
      "execution_count": null,
      "outputs": []
    },
    {
      "cell_type": "markdown",
      "source": [
        "5. Utilizar JOINs de tipo NESTED LOOPS en lugar de CROSS JOINs para evitar el cartesian product y reducir el tamaño del resultado final."
      ],
      "metadata": {
        "id": "aG--k2Ccmt3C"
      }
    },
    {
      "cell_type": "code",
      "source": [
        "-- Ejecutar consulta con JOIN de tipo NESTED LOOPS\n",
        "SELECT a.ID, a.NAME, b.DESCRIPTION\n",
        "FROM TABLE1 a\n",
        "NESTED LOOPS JOIN TABLE2 b ON a.ID = b.ID\n",
        "WHERE a.NAME = 'John Doe';"
      ],
      "metadata": {
        "id": "iiAjd0inmv4e"
      },
      "execution_count": null,
      "outputs": []
    },
    {
      "cell_type": "markdown",
      "source": [
        "6. Utilizar JOINs de tipo NATURAL en lugar de condiciones de JOIN explícitas para simplificar la consulta y mejorar su legibilidad."
      ],
      "metadata": {
        "id": "X5eZT-Xjmxa2"
      }
    },
    {
      "cell_type": "code",
      "source": [
        "-- Ejecutar consulta con JOIN de tipo NATURAL\n",
        "SELECT a.*, b.*\n",
        "FROM TABLE1 a NATURAL JOIN TABLE2 b\n",
        "WHERE a.NAME = 'John Doe';"
      ],
      "metadata": {
        "id": "4LXy8sKmm0Cm"
      },
      "execution_count": null,
      "outputs": []
    },
    {
      "cell_type": "markdown",
      "source": [
        "Cada uno de los puntos mencionados tiene su propia aplicación y es mejor utilizarlos en diferentes contextos y situaciones.\n",
        "\n",
        "1. Utilizar índices en las tablas involucradas en el JOIN para mejorar el acceso a los datos y reducir el tiempo de ejecución de la consulta es útil cuando se necesita mejorar el rendimiento de consultas que acceden a muchos registros en una o varias tablas. Los índices permiten acceder a los datos de manera más rápida y eficiente, reduciendo el tiempo de ejecución de la consulta.\n",
        "\n",
        "2. Utilizar JOINs INNER en lugar de OUTER para evitar que se incluyan registros nulos en el resultado final es útil cuando se desea obtener un resultado limpio y preciso sin datos nulos o faltantes. Los JOINs INNER solo incluyen los registros que cumplen la condición de JOIN, mientras que los JOINs OUTER incluyen también los registros que no cumplen la condición, pero que tienen valores nulos en las columnas especificadas.\n",
        "\n",
        "3. Utilizar JOINs de tipo HASH en lugar de sort-merge para mejorar la eficiencia de la consulta es útil cuando se desea mejorar el rendimiento de consultas que involucran una gran cantidad de registros en las tablas involucradas. Los JOINs de tipo HASH utilizan un algoritmo de hashing para comparar los registros y generar el resultado final, lo que puede ser más rápido y eficiente que el algoritmo de sort-merge utilizado por los JOINs tradicionales.\n",
        "\n",
        "4. Evitar utilizar funciones en las condiciones de JOIN, ya que pueden dificultar la optimización de la consulta por parte del motor de base de datos es útil cuando se desea mejorar la legibilidad y la optimización de la consulta. Las funciones pueden dificultar la optimización de la consulta por parte del motor de base de datos, ya que requieren un procesamiento adicional y pueden dificultar la identificación de los índices y estructuras de datos más adecuadas para la consulta.\n",
        "\n",
        "5. Utilizar JOINs de tipo NESTED LOOPS en lugar de CROSS JOINs para evitar el cartesian product y reducir el tamaño del resultado final es útil cuando se desea mejorar el rendimiento de consultas que involucran muchas tablas y un gran número de registros. Los CROSS JOINs generan un resultado que incluye todas las combinaciones posibles entre los registros de las tablas involucradas, lo que puede generar un resultado muy grande y dificultar el rendimiento de la consulta. Los JOINs de tipo NESTED LOOPS permiten mejorar el rendimiento de estas consultas, ya que evalúan cada registro de la tabla externa contra cada registro de la tabla interna, y solo incluyen en el resultado los que cumplen la condición de JOIN.\n",
        "\n",
        "6. Utilizar JOINs de tipo NATURAL en lugar de condiciones de JOIN explícitas para simplificar la consulta y mejorar su legibilidad es útil cuando se desea simplificar la consulta y hacerla más legible y fácil de entender. Los JOINs de tipo NATURAL utilizan el nombre de las columnas comunes en las tablas involucradas en el JOIN como condición de unión, eliminando la necesidad de especificar una condición de JOIN explícita. Esto puede mejorar la legibilidad y facilidad de lectura de la consulta, y hacerla más fácil de mantener y actualizar."
      ],
      "metadata": {
        "id": "5Vo2VilinI-4"
      }
    },
    {
      "cell_type": "markdown",
      "source": [
        "# **Reorganización de las tablas y índices de una base de datos Oracle**\n",
        "Esta técnica consiste en modificar la estructura de las tablas y índices de manera que se optimice su almacenamiento y acceso en el sistema.\n",
        "\n",
        "Por ejemplo, si tenemos una tabla llamada \"Clientes\" con los campos \"ID\", \"Nombre\" y \"Dirección\", podríamos reorganizarla de la siguiente manera:\n",
        "\n",
        "1. Crear un índice único en el campo \"ID\" para mejorar el acceso a los registros por su identificador:"
      ],
      "metadata": {
        "id": "Ipw_OMXLkGaT"
      }
    },
    {
      "cell_type": "code",
      "source": [
        "CREATE UNIQUE INDEX idx_clientes_id ON Clientes (ID);"
      ],
      "metadata": {
        "id": "-FUtRU5NkO1F"
      },
      "execution_count": null,
      "outputs": []
    },
    {
      "cell_type": "markdown",
      "source": [
        "2. Crear un índice en el campo \"Nombre\" para mejorar el acceso a los registros por nombre:"
      ],
      "metadata": {
        "id": "kwoJsN2MkQZU"
      }
    },
    {
      "cell_type": "code",
      "source": [
        "CREATE INDEX idx_clientes_nombre ON Clientes (Nombre);"
      ],
      "metadata": {
        "id": "Mdz6fFPlkSeq"
      },
      "execution_count": null,
      "outputs": []
    },
    {
      "cell_type": "markdown",
      "source": [
        "3. Crear un índice en el campo \"Dirección\" para mejorar el acceso a los registros por dirección:"
      ],
      "metadata": {
        "id": "YgAqASB4kWY2"
      }
    },
    {
      "cell_type": "code",
      "source": [
        "CREATE INDEX idx_clientes_direccion ON Clientes (Direccion);"
      ],
      "metadata": {
        "id": "yskVKcIwkXf3"
      },
      "execution_count": null,
      "outputs": []
    },
    {
      "cell_type": "markdown",
      "source": [
        "De esta manera, cuando se realicen consultas a la tabla \"Clientes\" utilizando estos campos como criterios de búsqueda, se podrán acceder de manera más rápida y eficiente a los registros gracias a los índices creados.\n",
        "\n",
        "Además, es posible realizar la reorganización de las tablas y índices de manera automatizada utilizando herramientas de gestión de base de datos, como por ejemplo Oracle Enterprise Manager. Estas herramientas permiten analizar el rendimiento de las tablas y índices y sugerir cambios en su estructura para mejorar el rendimiento de la base de datos.\n",
        "\n",
        "Por ejemplo, podríamos utilizar Oracle Enterprise Manager para realizar un análisis de la tabla \"Clientes\" y sugerir cambios en su estructura para mejorar el rendimiento:"
      ],
      "metadata": {
        "id": "cKsxDPrakZxE"
      }
    },
    {
      "cell_type": "code",
      "source": [
        "BEGIN\n",
        "  DBMS_ADVISOR.TASK_ANALYZE('Clientes', 'ANALYZE_OBJECT', 'Tables');\n",
        "  DBMS_ADVISOR.EXECUTE_TASK('Clientes');\n",
        "  DBMS_ADVISOR.GET_TASK_REPORT('Clientes', 'TEXT', 'Clientes_Report.txt');\n",
        "END;"
      ],
      "metadata": {
        "id": "hZ6wXrROkds4"
      },
      "execution_count": null,
      "outputs": []
    },
    {
      "cell_type": "markdown",
      "source": [
        "En este caso, se realiza un análisis de la tabla \"Clientes\" y se genera un informe con las sugerencias para mejorar su rendimiento. Este informe puede ser utilizado por un administrador de base de datos para implementar las recomendaciones y mejorar el rendimiento de la tabla \"Clientes\"."
      ],
      "metadata": {
        "id": "W2pIF8xykgOz"
      }
    },
    {
      "cell_type": "markdown",
      "source": [
        "La reorganización de las tablas y índices de una base de datos Oracle es útil cuando se desea mejorar el rendimiento y la eficiencia de la base de datos. Esta técnica consiste en reorganizar las tablas y índices de la base de datos para asegurarse de que están almacenados de manera adecuada y se pueden acceder de manera rápida y eficiente.\n",
        "\n",
        "Hay varios casos en los que puede ser útil reorganizar las tablas y índices de una base de datos Oracle, algunos ejemplos son:\n",
        "\n",
        "* Cuando se han realizado muchas operaciones de inserción, actualización o eliminación de registros en una o varias tablas, y se desea mejorar el rendimiento de las consultas que acceden a estos datos. La reorganización de las tablas y índices puede ayudar a reorganizar los datos de manera más eficiente y mejorar el acceso a ellos.\n",
        "\n",
        "* Cuando se ha modificado la estructura de una o varias tablas, agregando, eliminando o modificando columnas. La reorganización de las tablas y índices puede ayudar a adaptar la estructura de almacenamiento de los datos a la nueva estructura de la tabla y mejorar el rendimiento de las consultas.\n",
        "\n",
        "* Cuando se han realizado cambios significativos en el hardware de la base de datos, como un cambio de disco duro o de memoria RAM. La reorganización de las tablas y índices puede ayudar a aprovechar mejor el nuevo hardware y mejorar el rendimiento de la base de datos.\n",
        "\n",
        "Para realizar la reorganización de las tablas y índices de una base de datos Oracle, se pueden utilizar diferentes herramientas y comandos, como por ejemplo:\n",
        "\n",
        "* La herramienta Oracle Enterprise Manager (OEM), que permite reorganizar las tablas y índices de la base de datos de manera gráfica y sencilla.\n",
        "\n",
        "* Los comandos ALTER TABLE y ALTER INDEX, que permiten modificar la estructura y el almacenamiento de las tablas y índices de la base de datos.\n",
        "\n",
        "Ejemplo de reorganización de una tabla y un índice en Oracle:\n",
        "* Para reorganizar una tabla y un índice en Oracle, se puede utilizar el comando ALTER TABLE seguido del nombre de la tabla y el comando REORGANIZE:"
      ],
      "metadata": {
        "id": "Z8zCIpt4oEVT"
      }
    },
    {
      "cell_type": "code",
      "source": [
        "ALTER TABLE nombre_tabla REORGANIZE;"
      ],
      "metadata": {
        "id": "wBAc-0HxqCZi"
      },
      "execution_count": null,
      "outputs": []
    },
    {
      "cell_type": "markdown",
      "source": [
        "* Para reorganizar un índice en particular, se puede utilizar el comando ALTER INDEX seguido del nombre del índice y el comando REBUILD:"
      ],
      "metadata": {
        "id": "3WMu4xRDqDl3"
      }
    },
    {
      "cell_type": "code",
      "source": [
        "ALTER INDEX nombre_indice REBUILD;"
      ],
      "metadata": {
        "id": "Ot8PSHNlqG2p"
      },
      "execution_count": null,
      "outputs": []
    },
    {
      "cell_type": "markdown",
      "source": [
        "Estos comandos reorganizarán la tabla y el índice especificado, adaptando su estructura y almacenamiento a las necesidades actuales de la base de datos. Esto puede mejorar el rendimiento y la eficiencia de la base de datos al permitir un acceso más rápido y eficiente a los datos."
      ],
      "metadata": {
        "id": "-Z2vmaurqKwf"
      }
    },
    {
      "cell_type": "markdown",
      "source": [
        "# **Técnicas de caching y de partición de datos**\n",
        "La técnica de caching consiste en almacenar en memoria ciertos datos que se utilizan con frecuencia para que puedan accederse de manera más rápida. Por ejemplo, si una aplicación realiza consultas frecuentes a una tabla de usuarios, se puede utilizar una caché en memoria para almacenar esos usuarios y evitar tener que acceder a la base de datos cada vez que se realice una consulta.\n",
        "\n",
        "En Oracle, la técnica de caching se puede utilizar mediante el uso de la cláusula CACHE en las sentencias SELECT. Por ejemplo, para almacenar en caché los usuarios de una tabla llamada USERS, se puede utilizar la siguiente sentencia:"
      ],
      "metadata": {
        "id": "9PsqxGQpkhSH"
      }
    },
    {
      "cell_type": "code",
      "source": [
        "SELECT * FROM USERS CACHE;"
      ],
      "metadata": {
        "id": "XCYruLcVlC1K"
      },
      "execution_count": null,
      "outputs": []
    },
    {
      "cell_type": "markdown",
      "source": [
        "La técnica de partición de datos consiste en dividir una tabla en varias partes, de manera que cada parte pueda gestionarse y accederse de manera independiente. Esto puede mejorar el rendimiento de la base de datos, ya que permite realizar operaciones en una parte de la tabla sin tener que acceder a toda la tabla.\n",
        "\n",
        "En Oracle, la técnica de partición se puede utilizar mediante el uso de la cláusula PARTITION BY en las sentencias CREATE TABLE. Por ejemplo, para crear una tabla llamada ORDERS que esté particionada por fecha de pedido, se puede utilizar la siguiente sentencia:"
      ],
      "metadata": {
        "id": "pI1HKH7llFIB"
      }
    },
    {
      "cell_type": "code",
      "source": [
        "CREATE TABLE ORDERS (\n",
        "  ORDER_ID NUMBER,\n",
        "  ORDER_DATE DATE,\n",
        "  PRODUCT_ID NUMBER,\n",
        "  PRODUCT_NAME VARCHAR2(100),\n",
        "  PRODUCT_PRICE NUMBER\n",
        ")\n",
        "PARTITION BY RANGE (ORDER_DATE)\n",
        "(\n",
        "  PARTITION ORDER_DATE_2017 VALUES LESS THAN (TO_DATE('01-01-2018', 'DD-MM-YYYY')),\n",
        "  PARTITION ORDER_DATE_2018 VALUES LESS THAN (TO_DATE('01-01-2019', 'DD-MM-YYYY')),\n",
        "  PARTITION ORDER_DATE_2019 VALUES LESS THAN (TO_DATE('01-01-2020', 'DD-MM-YYYY')),\n",
        "  PARTITION ORDER_DATE_2020 VALUES LESS THAN (TO_DATE('01-01-2021', 'DD-MM-YYYY'))\n",
        ");"
      ],
      "metadata": {
        "id": "t-8v3lv6lGPP"
      },
      "execution_count": null,
      "outputs": []
    },
    {
      "cell_type": "markdown",
      "source": [
        "En este caso, se han creado cuatro particiones en la tabla ORDERS, una para cada año desde 2017 hasta 2020, de manera que se pueden realizar operaciones sobre un año en particular sin tener que acceder a todos los datos de la tabla.\n",
        "\n",
        "Por ejemplo, para obtener todos los pedidos del año 2018, se puede utilizar la siguiente sentencia:"
      ],
      "metadata": {
        "id": "etOreSuFlIhv"
      }
    },
    {
      "cell_type": "code",
      "source": [
        "SELECT * FROM ORDERS\n",
        "WHERE ORDER_DATE BETWEEN TO_DATE('01-01-2018', 'DD-MM-YYYY') AND TO_DATE('31-12-2018', 'DD-MM-YYYY')"
      ],
      "metadata": {
        "id": "6e1L0Y78lLnX"
      },
      "execution_count": null,
      "outputs": []
    },
    {
      "cell_type": "markdown",
      "source": [
        "En este caso, la sentencia solo accederá a la partición ORDER_DATE_2018, lo que puede mejorar el rendimiento de la consulta en comparación con una sentencia que acceda a toda la tabla.\n",
        "\n",
        "En resumen, utilizar técnicas de caching y de partición de datos en una base de datos Oracle puede mejorar el rendimiento de las operaciones sobre los datos almacenados en la base de datos."
      ],
      "metadata": {
        "id": "LbvFrLqJlN_2"
      }
    }
  ]
}